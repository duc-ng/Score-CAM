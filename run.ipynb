{
 "cells": [
  {
   "cell_type": "code",
   "execution_count": 20,
   "metadata": {},
   "outputs": [],
   "source": [
    "import torch\n",
    "import torch.nn.functional as F\n",
    "import torchvision.models as models\n",
    "import matplotlib.pyplot as plt\n",
    "import sys\n",
    "import getopt\n",
    "import pathlib\n",
    "import shutil\n",
    "import numpy as np\n",
    "from matplotlib.image import imsave\n",
    "from glob import glob\n",
    "from os.path import join\n",
    "from utils import *\n",
    "from cam.scorecam import ScoreCAM\n",
    "import warnings"
   ]
  },
  {
   "cell_type": "code",
   "execution_count": 21,
   "metadata": {},
   "outputs": [
    {
     "name": "stdout",
     "output_type": "stream",
     "text": [
      "Target layer:  ReLU(inplace=True)\n"
     ]
    }
   ],
   "source": [
    "## EXPERIMENT 1: Class discrimination\n",
    "\n",
    "# clear results directory\n",
    "warnings.filterwarnings(\"ignore\")\n",
    "path_results = pathlib.Path('./results')\n",
    "if path_results.exists() and path_results.is_dir():\n",
    "    shutil.rmtree(path_results) #rm previous results\n",
    "path_results.mkdir(parents=True, exist_ok=True) \n",
    "\n",
    "# init\n",
    "TARGET_LAYER = \"features.29\"\n",
    "IMAGE_DIR = \"images/X_ILSVRC2012\"\n",
    "MEANS = [0.485, 0.456, 0.406]\n",
    "STDS = [0.229, 0.224, 0.225]\n",
    "SIZE = 224\n",
    "\n",
    "# load model\n",
    "model = models.vgg16(pretrained=True).eval()\n",
    "model_scorecam = ScoreCAM(dict(arch=model, layer_name=TARGET_LAYER, input_size=(SIZE, SIZE)))\n",
    "\n",
    "# load images\n",
    "images = glob(join(IMAGE_DIR, \"*\"))\n",
    "\n",
    "# preprocess image + generate heatmaps\n",
    "for index, image in enumerate(images):\n",
    "    \n",
    "    # preprocess\n",
    "    input_image = load_image(image)  \n",
    "    input_ = apply_transforms_score(input_image, MEANS, STDS, SIZE)\n",
    "    if torch.cuda.is_available():\n",
    "        input_ = input_.cuda()\n",
    "\n",
    "    # get class\n",
    "    # predicted_class = model(input_).max(1)[-1]\n",
    "    \n",
    "    # get heatmap\n",
    "    heatmap = model_scorecam(input_)\n"
   ]
  },
  {
   "cell_type": "code",
   "execution_count": 22,
   "metadata": {},
   "outputs": [
    {
     "ename": "NameError",
     "evalue": "name 'visualize_exp1' is not defined",
     "output_type": "error",
     "traceback": [
      "\u001b[0;31m---------------------------------------------------------------------------\u001b[0m",
      "\u001b[0;31mNameError\u001b[0m                                 Traceback (most recent call last)",
      "\u001b[1;32m/Users/duc/Dropbox/Uni/M2.4 Project CV/Score-CAM/run.ipynb Cell 3\u001b[0m in \u001b[0;36m<cell line: 7>\u001b[0;34m()\u001b[0m\n\u001b[1;32m      <a href='vscode-notebook-cell:/Users/duc/Dropbox/Uni/M2.4%20Project%20CV/Score-CAM/run.ipynb#ch0000004?line=4'>5</a>\u001b[0m labels \u001b[39m=\u001b[39m [(\u001b[39m\"\u001b[39m\u001b[39myo\u001b[39m\u001b[39m\"\u001b[39m, \u001b[39m\"\u001b[39m\u001b[39mya\u001b[39m\u001b[39m\"\u001b[39m, \u001b[39m\"\u001b[39m\u001b[39mye\u001b[39m\u001b[39m\"\u001b[39m),(\u001b[39m\"\u001b[39m\u001b[39myo\u001b[39m\u001b[39m\"\u001b[39m, \u001b[39m\"\u001b[39m\u001b[39mya\u001b[39m\u001b[39m\"\u001b[39m, \u001b[39m\"\u001b[39m\u001b[39mye\u001b[39m\u001b[39m\"\u001b[39m)]\n\u001b[1;32m      <a href='vscode-notebook-cell:/Users/duc/Dropbox/Uni/M2.4%20Project%20CV/Score-CAM/run.ipynb#ch0000004?line=6'>7</a>\u001b[0m \u001b[39mwith\u001b[39;00m torch\u001b[39m.\u001b[39mno_grad():\n\u001b[0;32m----> <a href='vscode-notebook-cell:/Users/duc/Dropbox/Uni/M2.4%20Project%20CV/Score-CAM/run.ipynb#ch0000004?line=7'>8</a>\u001b[0m   visualize_exp1(imgs,labels )\n",
      "\u001b[0;31mNameError\u001b[0m: name 'visualize_exp1' is not defined"
     ]
    }
   ],
   "source": [
    "# visualize heatmaps\n",
    "input_ = input_.cpu() \n",
    "heatmap = heatmap.type(torch.FloatTensor).cpu()\n",
    "imgs = [(input_image,heatmap,heatmap),(input_image,heatmap,heatmap)]\n",
    "labels = [(\"yo\", \"ya\", \"ye\"),(\"yo\", \"ya\", \"ye\")]\n",
    "\n",
    "with torch.no_grad():\n",
    "  visualize_exp1(imgs,labels )\n",
    "\n",
    "\n",
    "\n"
   ]
  },
  {
   "cell_type": "code",
   "execution_count": null,
   "metadata": {},
   "outputs": [],
   "source": []
  },
  {
   "cell_type": "code",
   "execution_count": null,
   "metadata": {},
   "outputs": [],
   "source": []
  }
 ],
 "metadata": {
  "kernelspec": {
   "display_name": "Python 3.10.4 ('scorecam')",
   "language": "python",
   "name": "python3"
  },
  "language_info": {
   "codemirror_mode": {
    "name": "ipython",
    "version": 3
   },
   "file_extension": ".py",
   "mimetype": "text/x-python",
   "name": "python",
   "nbconvert_exporter": "python",
   "pygments_lexer": "ipython3",
   "version": "3.10.4"
  },
  "orig_nbformat": 4,
  "vscode": {
   "interpreter": {
    "hash": "34148f8ae5953039ad03c77ad3820a29bb60621b2fadaa00a65434671a38f77d"
   }
  }
 },
 "nbformat": 4,
 "nbformat_minor": 2
}
