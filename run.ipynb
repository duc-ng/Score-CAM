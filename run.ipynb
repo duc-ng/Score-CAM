{
 "cells": [
  {
   "cell_type": "code",
   "execution_count": 1,
   "metadata": {},
   "outputs": [],
   "source": [
    "import torch\n",
    "import torch.nn.functional as F\n",
    "import torchvision.models as models\n",
    "import matplotlib.pyplot as plt\n",
    "import sys\n",
    "import getopt\n",
    "import pathlib\n",
    "import shutil\n",
    "import numpy as np\n",
    "from matplotlib.image import imsave\n",
    "from glob import glob\n",
    "from os.path import join\n",
    "from utils import load_image, apply_transforms_score, basic_visualize, visualize, save_output\n",
    "from cam.scorecam import ScoreCAM\n",
    "import warnings"
   ]
  },
  {
   "cell_type": "code",
   "execution_count": 3,
   "metadata": {},
   "outputs": [
    {
     "name": "stdout",
     "output_type": "stream",
     "text": [
      "Target layer:  ReLU(inplace=True)\n",
      "torch.Size([1, 3, 224, 224])\n"
     ]
    },
    {
     "name": "stderr",
     "output_type": "stream",
     "text": [
      "/Users/duc/anaconda3/envs/scorecam/lib/python3.10/site-packages/torch/nn/modules/module.py:1033: UserWarning: Using a non-full backward hook when the forward contains multiple autograd Nodes is deprecated and will be removed in future versions. This hook will be missing some grad_input. Please use register_full_backward_hook to get the documented behavior.\n",
      "  warnings.warn(\"Using a non-full backward hook when the forward contains multiple autograd Nodes \"\n"
     ]
    },
    {
     "name": "stdout",
     "output_type": "stream",
     "text": [
      "torch.Size([1, 1, 224, 224])\n"
     ]
    }
   ],
   "source": [
    "## EXPERIMENT 1: Class discrimination\n",
    "\n",
    "# clear results directory\n",
    "warnings.filterwarnings(\"ignore\")\n",
    "path_results = pathlib.Path('./results')\n",
    "if path_results.exists() and path_results.is_dir():\n",
    "    shutil.rmtree(path_results) #rm previous results\n",
    "path_results.mkdir(parents=True, exist_ok=True) \n",
    "\n",
    "# init\n",
    "TARGET_LAYER = \"features.29\"\n",
    "IMAGE_DIR = \"images/X_ILSVRC2012\"\n",
    "MEANS = [0.485, 0.456, 0.406]\n",
    "STDS = [0.229, 0.224, 0.225]\n",
    "SIZE = 224\n",
    "\n",
    "# load model\n",
    "model = models.vgg16(pretrained=True).eval()\n",
    "model_scorecam = ScoreCAM(dict(arch=model, layer_name=TARGET_LAYER, input_size=(SIZE, SIZE)))\n",
    "\n",
    "# load images\n",
    "images = glob(join(IMAGE_DIR, \"*\"))\n",
    "\n",
    "# preprocess image + generate heatmaps\n",
    "for index, image in enumerate(images):\n",
    "    \n",
    "    # preprocess\n",
    "    input_image = load_image(image)  \n",
    "    input_ = apply_transforms_score(input_image, MEANS, STDS, SIZE)\n",
    "    if torch.cuda.is_available():\n",
    "        input_ = input_.cuda()\n",
    "\n",
    "    # get class\n",
    "    predicted_class = model(input_).max(1)[-1]\n",
    "    \n",
    "    # get heatmap\n",
    "    heatmap = model_scorecam(input_)\n",
    "\n",
    "    print(heatmap.shape)\n",
    "    \n",
    "\n",
    "# visualize heatmaps"
   ]
  },
  {
   "cell_type": "code",
   "execution_count": null,
   "metadata": {},
   "outputs": [],
   "source": []
  }
 ],
 "metadata": {
  "kernelspec": {
   "display_name": "Python 3.10.4 ('scorecam')",
   "language": "python",
   "name": "python3"
  },
  "language_info": {
   "codemirror_mode": {
    "name": "ipython",
    "version": 3
   },
   "file_extension": ".py",
   "mimetype": "text/x-python",
   "name": "python",
   "nbconvert_exporter": "python",
   "pygments_lexer": "ipython3",
   "version": "3.10.4"
  },
  "orig_nbformat": 4,
  "vscode": {
   "interpreter": {
    "hash": "34148f8ae5953039ad03c77ad3820a29bb60621b2fadaa00a65434671a38f77d"
   }
  }
 },
 "nbformat": 4,
 "nbformat_minor": 2
}
